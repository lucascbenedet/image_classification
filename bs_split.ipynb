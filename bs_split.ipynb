{
 "cells": [
  {
   "cell_type": "code",
   "execution_count": 7,
   "metadata": {},
   "outputs": [],
   "source": [
    "import numpy as np\n",
    "import pandas as pd\n",
    "from sklearn.model_selection import train_test_split # importa o método train_test_split "
   ]
  },
  {
   "cell_type": "code",
   "execution_count": 8,
   "metadata": {},
   "outputs": [
    {
     "name": "stdout",
     "output_type": "stream",
     "text": [
      "<class 'pandas.core.frame.DataFrame'>\n",
      "RangeIndex: 1422 entries, 0 to 1421\n",
      "Data columns (total 3 columns):\n",
      " #   Column              Non-Null Count  Dtype \n",
      "---  ------              --------------  ----- \n",
      " 0   foto                1422 non-null   object\n",
      " 1   padrao_construtivo  1422 non-null   object\n",
      " 2   class_id            1422 non-null   int64 \n",
      "dtypes: int64(1), object(2)\n",
      "memory usage: 33.5+ KB\n"
     ]
    }
   ],
   "source": [
    "low_memory=False\n",
    "ds = pd.read_csv('datasets/full/sb_original.csv')\n",
    "ds.info()"
   ]
  },
  {
   "cell_type": "code",
   "execution_count": 9,
   "metadata": {},
   "outputs": [
    {
     "name": "stdout",
     "output_type": "stream",
     "text": [
      "                                                   foto  class_id\n",
      "0     https://geo-criciuma-fotos.s3-us-east-2.amazon...         1\n",
      "1     https://geo-criciuma-fotos.s3-us-east-2.amazon...         1\n",
      "2     https://geo-criciuma-fotos.s3-us-east-2.amazon...         1\n",
      "3     https://geo-criciuma-fotos.s3-us-east-2.amazon...         1\n",
      "4     https://geo-criciuma-fotos.s3-us-east-2.amazon...         1\n",
      "...                                                 ...       ...\n",
      "1417  https://geo-criciuma-fotos.s3-us-east-2.amazon...         4\n",
      "1418  https://geo-criciuma-fotos.s3-us-east-2.amazon...         4\n",
      "1419  https://geo-criciuma-fotos.s3-us-east-2.amazon...         4\n",
      "1420  https://geo-criciuma-fotos.s3-us-east-2.amazon...         4\n",
      "1421  https://geo-criciuma-fotos.s3-us-east-2.amazon...         4\n",
      "\n",
      "[1422 rows x 2 columns]\n",
      "0              Alto\n",
      "1              Alto\n",
      "2              Alto\n",
      "3              Alto\n",
      "4              Alto\n",
      "           ...     \n",
      "1417    Médio Baixo\n",
      "1418    Médio Baixo\n",
      "1419    Médio Baixo\n",
      "1420    Médio Baixo\n",
      "1421    Médio Baixo\n",
      "Name: padrao_construtivo, Length: 1422, dtype: object\n"
     ]
    }
   ],
   "source": [
    "feature_cols = ['foto','class_id']\n",
    "label = 'padrao_construtivo'\n",
    "X = ds[feature_cols] # Features\n",
    "y = ds[label] # Target attribute (label)\n",
    "print(X)\n",
    "print(y)"
   ]
  },
  {
   "cell_type": "code",
   "execution_count": 10,
   "metadata": {},
   "outputs": [
    {
     "name": "stdout",
     "output_type": "stream",
     "text": [
      "                                                   foto  class_id\n",
      "432   https://geo-criciuma-fotos.s3-us-east-2.amazon...         3\n",
      "541   https://geo-criciuma-fotos.s3-us-east-2.amazon...         3\n",
      "299   https://geo-criciuma-fotos.s3-us-east-2.amazon...         3\n",
      "842   https://geo-criciuma-fotos.s3-us-east-2.amazon...         4\n",
      "1340  https://geo-criciuma-fotos.s3-us-east-2.amazon...         4\n",
      "...                                                 ...       ...\n",
      "715   https://geo-criciuma-fotos.s3-us-east-2.amazon...         4\n",
      "905   https://geo-criciuma-fotos.s3-us-east-2.amazon...         4\n",
      "1096  https://geo-criciuma-fotos.s3-us-east-2.amazon...         4\n",
      "235   https://geo-criciuma-fotos.s3-us-east-2.amazon...         3\n",
      "1061  https://geo-criciuma-fotos.s3-us-east-2.amazon...         4\n",
      "\n",
      "[1137 rows x 2 columns]\n",
      "                                                   foto  class_id\n",
      "169   https://geo-criciuma-fotos.s3-us-east-2.amazon...         3\n",
      "37    https://geo-criciuma-fotos.s3-us-east-2.amazon...         5\n",
      "1388  https://geo-criciuma-fotos.s3-us-east-2.amazon...         4\n",
      "913   https://geo-criciuma-fotos.s3-us-east-2.amazon...         4\n",
      "904   https://geo-criciuma-fotos.s3-us-east-2.amazon...         4\n",
      "...                                                 ...       ...\n",
      "698   https://geo-criciuma-fotos.s3-us-east-2.amazon...         4\n",
      "195   https://geo-criciuma-fotos.s3-us-east-2.amazon...         3\n",
      "584   https://geo-criciuma-fotos.s3-us-east-2.amazon...         2\n",
      "1384  https://geo-criciuma-fotos.s3-us-east-2.amazon...         4\n",
      "1138  https://geo-criciuma-fotos.s3-us-east-2.amazon...         4\n",
      "\n",
      "[285 rows x 2 columns]\n",
      "432           Médio\n",
      "541           Médio\n",
      "299           Médio\n",
      "842     Médio Baixo\n",
      "1340    Médio Baixo\n",
      "           ...     \n",
      "715     Médio Baixo\n",
      "905     Médio Baixo\n",
      "1096    Médio Baixo\n",
      "235           Médio\n",
      "1061    Médio Baixo\n",
      "Name: padrao_construtivo, Length: 1137, dtype: object\n",
      "169           Médio\n",
      "37            Baixo\n",
      "1388    Médio Baixo\n",
      "913     Médio Baixo\n",
      "904     Médio Baixo\n",
      "           ...     \n",
      "698     Médio Baixo\n",
      "195           Médio\n",
      "584      Médio Alto\n",
      "1384    Médio Baixo\n",
      "1138    Médio Baixo\n",
      "Name: padrao_construtivo, Length: 285, dtype: object\n"
     ]
    }
   ],
   "source": [
    "# Split the initial dataset into training (80%) and test (20%))\n",
    "X_train, X_test, y_train, y_test = train_test_split(X, y, test_size=0.2, random_state=1)\n",
    "print(X_train)\n",
    "print(X_test)\n",
    "print(y_train)\n",
    "print(y_test)"
   ]
  },
  {
   "cell_type": "code",
   "execution_count": 11,
   "metadata": {},
   "outputs": [],
   "source": [
    "# Merge DataFrames to compose training set\n",
    "training_set = pd.merge(X_train, y_train, left_index=True, right_index=True)\n",
    "training_set.to_csv('datasets/full/sb_training.csv', index=False)"
   ]
  },
  {
   "cell_type": "code",
   "execution_count": 12,
   "metadata": {},
   "outputs": [],
   "source": [
    "# Merge DataFrames to compose test set\n",
    "test_set = pd.merge(X_test, y_test, left_index=True, right_index=True)\n",
    "test_set.to_csv('datasets/full/sb_test.csv', index=False)"
   ]
  },
  {
   "cell_type": "code",
   "execution_count": null,
   "metadata": {},
   "outputs": [],
   "source": []
  }
 ],
 "metadata": {
  "kernelspec": {
   "display_name": "Python 3",
   "language": "python",
   "name": "python3"
  },
  "language_info": {
   "codemirror_mode": {
    "name": "ipython",
    "version": 3
   },
   "file_extension": ".py",
   "mimetype": "text/x-python",
   "name": "python",
   "nbconvert_exporter": "python",
   "pygments_lexer": "ipython3",
   "version": "3.10.9"
  },
  "orig_nbformat": 4,
  "vscode": {
   "interpreter": {
    "hash": "26de051ba29f2982a8de78e945f0abaf191376122a1563185a90213a26c5da77"
   }
  }
 },
 "nbformat": 4,
 "nbformat_minor": 2
}
