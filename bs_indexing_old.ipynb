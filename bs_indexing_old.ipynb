{
 "cells": [
  {
   "cell_type": "code",
   "execution_count": 1,
   "metadata": {},
   "outputs": [
    {
     "name": "stderr",
     "output_type": "stream",
     "text": [
      "C:\\Users\\alexa\\AppData\\Roaming\\Python\\Python310\\site-packages\\torchvision\\io\\image.py:13: UserWarning: Failed to load image Python extension: Could not find module 'C:\\Users\\alexa\\AppData\\Roaming\\Python\\Python310\\site-packages\\torchvision\\image.pyd' (or one of its dependencies). Try using the full path with constructor syntax.\n",
      "  warn(f\"Failed to load image Python extension: {e}\")\n"
     ]
    }
   ],
   "source": [
    "import numpy as np\n",
    "import pandas as pd\n",
    "from elasticsearch import Elasticsearch\n",
    "from elasticsearch.helpers import bulk\n",
    "import os\n",
    "from img2vec_pytorch import Img2Vec\n",
    "from PIL import Image\n",
    "import xml.etree.ElementTree as ET"
   ]
  },
  {
   "cell_type": "code",
   "execution_count": 2,
   "metadata": {},
   "outputs": [],
   "source": [
    "elastic_client = Elasticsearch(hosts=['http://localhost:9200'],\n",
    "                               basic_auth=('elastic', 'master'))\n",
    "model = Img2Vec()"
   ]
  },
  {
   "cell_type": "code",
   "execution_count": 3,
   "metadata": {},
   "outputs": [],
   "source": [
    "def generate_embedding(filename):\n",
    "    img = Image.open(filename).convert(\"RGB\")\n",
    "    vec = model.get_vec(img)\n",
    "    return vec.tolist()"
   ]
  },
  {
   "cell_type": "code",
   "execution_count": 4,
   "metadata": {},
   "outputs": [],
   "source": [
    "def build_doc(no:str, name:str, classes, vector):\n",
    "  document={ \n",
    "    \"no\": no,\n",
    "    \"name\": name,\n",
    "    \"classes\": classes, \n",
    "    \"embedding\": vector\n",
    "  }   \n",
    "  return document"
   ]
  },
  {
   "cell_type": "code",
   "execution_count": 5,
   "metadata": {},
   "outputs": [],
   "source": [
    "def get_files(path:str, extension:str):\n",
    "    file_list = [f for f in os.listdir(path) if f.endswith(extension)]\n",
    "    return file_list"
   ]
  },
  {
   "cell_type": "code",
   "execution_count": 6,
   "metadata": {},
   "outputs": [],
   "source": [
    "def get_classes(path:str, file_name:str):\n",
    "    tree = ET.parse(path+file_name)\n",
    "    root = tree.getroot()\n",
    "    classes=[]\n",
    "    for child in root:\n",
    "        if (child.tag == 'object'):\n",
    "            for new_child in child:\n",
    "                if (new_child.tag == 'name'):\n",
    "                    classes.append(new_child.text)\n",
    "    return classes"
   ]
  },
  {
   "cell_type": "code",
   "execution_count": 11,
   "metadata": {},
   "outputs": [],
   "source": [
    "dataset_path = \"./datasets/sb/images/\"\n",
    "index_name = \"building_standard_index_new\""
   ]
  },
  {
   "cell_type": "code",
   "execution_count": 12,
   "metadata": {},
   "outputs": [
    {
     "name": "stdout",
     "output_type": "stream",
     "text": [
      "10 images were indexed!!!\n",
      "Indexing was finished!!!\n"
     ]
    }
   ],
   "source": [
    "id = 0\n",
    "actions = []\n",
    "file_list = get_files(dataset_path, \".jpg\")\n",
    "actions = []\n",
    "for file in file_list: \n",
    "    id += 1\n",
    "    image_file = dataset_path+file\n",
    "    #xml_file = file[0:len(file)-4]+\".xml\"\n",
    "    classes = \"teste\"\n",
    "    vector = generate_embedding(image_file)\n",
    "    actions.append({\"_index\":index_name.lower(), \n",
    "                    \"_source\": build_doc(id, file, classes, vector)})\n",
    "    if ((id % 50 ) == 0):\n",
    "      bulk(elastic_client, actions)\n",
    "      actions.clear()\n",
    "      print(\"{} images were indexed!!!\".format(id))\n",
    "\n",
    "if len(actions) != 0:\n",
    "  bulk(elastic_client, actions)\n",
    "  actions.clear()\n",
    "  print(\"{} images were indexed!!!\".format(id))\n",
    "print(\"Indexing was finished!!!\")\n"
   ]
  }
 ],
 "metadata": {
  "kernelspec": {
   "display_name": "Python 3",
   "language": "python",
   "name": "python3"
  },
  "language_info": {
   "codemirror_mode": {
    "name": "ipython",
    "version": 3
   },
   "file_extension": ".py",
   "mimetype": "text/x-python",
   "name": "python",
   "nbconvert_exporter": "python",
   "pygments_lexer": "ipython3",
   "version": "3.11.7"
  },
  "orig_nbformat": 4,
  "vscode": {
   "interpreter": {
    "hash": "26de051ba29f2982a8de78e945f0abaf191376122a1563185a90213a26c5da77"
   }
  }
 },
 "nbformat": 4,
 "nbformat_minor": 2
}
